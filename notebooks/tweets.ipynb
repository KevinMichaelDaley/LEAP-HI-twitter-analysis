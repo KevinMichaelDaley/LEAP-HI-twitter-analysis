{
 "cells": [
  {
   "cell_type": "code",
   "execution_count": 3,
   "metadata": {},
   "outputs": [
    {
     "name": "stderr",
     "output_type": "stream",
     "text": [
      "/home/kslote/Epilepsy/virt/lib/python3.7/site-packages/IPython/core/interactiveshell.py:3051: DtypeWarning: Columns (0) have mixed types.Specify dtype option on import or set low_memory=False.\n",
      "  interactivity=interactivity, compiler=compiler, result=result)\n"
     ]
    }
   ],
   "source": [
    "import pandas as pd\n",
    "\n",
    "df = pd.read_csv(\"tweets.csv\")"
   ]
  },
  {
   "cell_type": "code",
   "execution_count": 4,
   "metadata": {},
   "outputs": [
    {
     "data": {
      "text/html": [
       "<div>\n",
       "<style scoped>\n",
       "    .dataframe tbody tr th:only-of-type {\n",
       "        vertical-align: middle;\n",
       "    }\n",
       "\n",
       "    .dataframe tbody tr th {\n",
       "        vertical-align: top;\n",
       "    }\n",
       "\n",
       "    .dataframe thead th {\n",
       "        text-align: right;\n",
       "    }\n",
       "</style>\n",
       "<table border=\"1\" class=\"dataframe\">\n",
       "  <thead>\n",
       "    <tr style=\"text-align: right;\">\n",
       "      <th></th>\n",
       "      <th>Unnamed: 0</th>\n",
       "      <th>id</th>\n",
       "      <th>username</th>\n",
       "      <th>keyword</th>\n",
       "      <th>date</th>\n",
       "      <th>label</th>\n",
       "      <th>text</th>\n",
       "    </tr>\n",
       "  </thead>\n",
       "  <tbody>\n",
       "    <tr>\n",
       "      <th>0</th>\n",
       "      <td>0</td>\n",
       "      <td>0.0</td>\n",
       "      <td>billjryan</td>\n",
       "      <td>gun control,gun laws,gun violence,mass shootin...</td>\n",
       "      <td>2019-06-29T17:38:30</td>\n",
       "      <td>1</td>\n",
       "      <td>Self Determination In Lands Stolen From The Pa...</td>\n",
       "    </tr>\n",
       "    <tr>\n",
       "      <th>1</th>\n",
       "      <td>1</td>\n",
       "      <td>1.0</td>\n",
       "      <td>crowned4it</td>\n",
       "      <td>gun control,gun laws,gun violence,mass shootin...</td>\n",
       "      <td>2019-06-29T17:38:31</td>\n",
       "      <td>1</td>\n",
       "      <td>Learning is an everyday process, and I'm thank...</td>\n",
       "    </tr>\n",
       "    <tr>\n",
       "      <th>2</th>\n",
       "      <td>2</td>\n",
       "      <td>2.0</td>\n",
       "      <td>mdncil991</td>\n",
       "      <td>gun control,gun laws,gun violence,mass shootin...</td>\n",
       "      <td>2019-06-29T17:38:32</td>\n",
       "      <td>1</td>\n",
       "      <td>RT @ericswalwell: I wear this ribbon for Jaime...</td>\n",
       "    </tr>\n",
       "    <tr>\n",
       "      <th>3</th>\n",
       "      <td>3</td>\n",
       "      <td>3.0</td>\n",
       "      <td>banished01</td>\n",
       "      <td>gun control,gun laws,gun violence,mass shootin...</td>\n",
       "      <td>2019-06-29T17:38:33</td>\n",
       "      <td>1</td>\n",
       "      <td>@MeltingInMarana @911_Remembered @Brenda801251...</td>\n",
       "    </tr>\n",
       "    <tr>\n",
       "      <th>4</th>\n",
       "      <td>4</td>\n",
       "      <td>4.0</td>\n",
       "      <td>11ForTexas</td>\n",
       "      <td>gun control,gun laws,gun violence,mass shootin...</td>\n",
       "      <td>2019-06-29T17:38:35</td>\n",
       "      <td>1</td>\n",
       "      <td>RT @boxersforlife: Hey @ericswalwell 1. You ca...</td>\n",
       "    </tr>\n",
       "  </tbody>\n",
       "</table>\n",
       "</div>"
      ],
      "text/plain": [
       "  Unnamed: 0   id    username  \\\n",
       "0          0  0.0   billjryan   \n",
       "1          1  1.0  crowned4it   \n",
       "2          2  2.0   mdncil991   \n",
       "3          3  3.0  banished01   \n",
       "4          4  4.0  11ForTexas   \n",
       "\n",
       "                                             keyword                 date  \\\n",
       "0  gun control,gun laws,gun violence,mass shootin...  2019-06-29T17:38:30   \n",
       "1  gun control,gun laws,gun violence,mass shootin...  2019-06-29T17:38:31   \n",
       "2  gun control,gun laws,gun violence,mass shootin...  2019-06-29T17:38:32   \n",
       "3  gun control,gun laws,gun violence,mass shootin...  2019-06-29T17:38:33   \n",
       "4  gun control,gun laws,gun violence,mass shootin...  2019-06-29T17:38:35   \n",
       "\n",
       "  label                                               text  \n",
       "0     1  Self Determination In Lands Stolen From The Pa...  \n",
       "1     1  Learning is an everyday process, and I'm thank...  \n",
       "2     1  RT @ericswalwell: I wear this ribbon for Jaime...  \n",
       "3     1  @MeltingInMarana @911_Remembered @Brenda801251...  \n",
       "4     1  RT @boxersforlife: Hey @ericswalwell 1. You ca...  "
      ]
     },
     "execution_count": 4,
     "metadata": {},
     "output_type": "execute_result"
    }
   ],
   "source": [
    "df.head()"
   ]
  },
  {
   "cell_type": "code",
   "execution_count": null,
   "metadata": {},
   "outputs": [],
   "source": []
  }
 ],
 "metadata": {
  "kernelspec": {
   "display_name": "Python 3",
   "language": "python",
   "name": "python3"
  },
  "language_info": {
   "codemirror_mode": {
    "name": "ipython",
    "version": 3
   },
   "file_extension": ".py",
   "mimetype": "text/x-python",
   "name": "python",
   "nbconvert_exporter": "python",
   "pygments_lexer": "ipython3",
   "version": "3.7.5"
  }
 },
 "nbformat": 4,
 "nbformat_minor": 2
}
